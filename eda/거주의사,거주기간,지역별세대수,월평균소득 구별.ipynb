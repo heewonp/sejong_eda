{
 "cells": [
  {
   "cell_type": "code",
   "execution_count": 1,
   "metadata": {},
   "outputs": [],
   "source": [
    "import pathlib\n",
    "import pandas as pd\n",
    "import numpy as np\n",
    "\n",
    "import json"
   ]
  },
  {
   "cell_type": "code",
   "execution_count": 2,
   "metadata": {},
   "outputs": [],
   "source": [
    "input_path = pathlib.Path('./SBJ_2102_001')"
   ]
  },
  {
   "cell_type": "code",
   "execution_count": 25,
   "metadata": {},
   "outputs": [
    {
     "name": "stderr",
     "output_type": "stream",
     "text": [
      "D:\\Program\\Anaconda3\\envs\\hyeri\\lib\\site-packages\\IPython\\core\\interactiveshell.py:3063: DtypeWarning: Columns (11) have mixed types.Specify dtype option on import or set low_memory=False.\n",
      "  interactivity=interactivity, compiler=compiler, result=result)\n",
      "D:\\Program\\Anaconda3\\envs\\hyeri\\lib\\site-packages\\IPython\\core\\interactiveshell.py:3063: DtypeWarning: Columns (10,13) have mixed types.Specify dtype option on import or set low_memory=False.\n",
      "  interactivity=interactivity, compiler=compiler, result=result)\n"
     ]
    }
   ],
   "source": [
    "전유부 = pd.read_csv(input_path.joinpath('1.세종시_전유부.csv'),encoding=\"utf-8\")\n",
    "표제부 = pd.read_csv(input_path.joinpath('2.세종시_표제부.csv'),encoding=\"utf-8\")\n",
    "아파트매매 = pd.read_csv(input_path.joinpath('3.세종시_아파트(매매)_실거래가.csv'),encoding=\"utf-8\")\n",
    "연립매매 = pd.read_csv(input_path.joinpath('4.세종시_연립다세대(매매)_실거래가.csv'),encoding=\"utf-8\")\n",
    "다가구매매 = pd.read_csv(input_path.joinpath('5.세종시_단독다가구(매매)_실거래가.csv'),encoding=\"utf-8\")\n",
    "오피스텔매매 = pd.read_csv(input_path.joinpath('6.세종시_오피스텔(매매)_실거래가.csv'),encoding=\"utf-8\")\n",
    "아파트전월세 = pd.read_csv(input_path.joinpath('7.세종시_아파트(전월세)_실거래가.csv'),encoding=\"utf-8\")\n",
    "연립전월세 = pd.read_csv(input_path.joinpath('8.세종시_연립다세대(전월세)_실거래가.csv'),encoding=\"utf-8\")\n",
    "다가구전월세 = pd.read_csv(input_path.joinpath('9.세종시_단독다가구(전월세)_실거래가.csv'),encoding=\"utf-8\")\n",
    "오피스텔전월세 = pd.read_csv(input_path.joinpath('10.세종시_오피스텔(전월세)_실거래가.csv'),encoding=\"utf-8\")\n",
    "상업매매 = pd.read_csv(input_path.joinpath('11.세종시_상업업무용(매매)_실거래가.csv'),encoding=\"utf-8\")\n",
    "토지매매 = pd.read_csv(input_path.joinpath('12.세종시_토지(매매)_실거래가.csv'),encoding=\"utf-8\")\n",
    "분양권 = pd.read_csv(input_path.joinpath('13.세종시_분양권_실거래가.csv'),encoding=\"utf-8\")\n",
    "상권정보 = pd.read_csv(input_path.joinpath('14.세종시_상권정보.csv'),encoding=\"utf-8\")\n",
    "상권정보업종 = pd.read_csv(input_path.joinpath('15.세종시_상권정보_업종코드.csv'),encoding=\"utf-8\")\n",
    "\n",
    "전입자수 = pd.read_csv(input_path.joinpath('20.세종시_전입자수.csv'),encoding=\"utf-8\")\n",
    "전출자수 = pd.read_csv(input_path.joinpath('21.세종시_전출자수.csv'),encoding=\"utf-8\")\n",
    "연령별인구 = pd.read_csv(input_path.joinpath('22.세종시_연령별_인구현황.csv'),encoding=\"utf-8\")\n",
    "월평균소비지출액 = pd.read_csv(input_path.joinpath('25.세종시_가구_월평균_소비지출액.csv'),encoding=\"utf-8\")\n",
    "거주기간 = pd.read_csv(input_path.joinpath('26.세종시_거주기간.csv'),encoding=\"utf-8\")\n",
    "월평균소득 = pd.read_csv(input_path.joinpath('27.세종시_월평균_가구소득.csv'),encoding=\"utf-8\")\n",
    "지역별세대수 = pd.read_csv(input_path.joinpath('28.세종시_지역별_세대원수별_세대수.csv'),encoding=\"utf-8\")\n",
    "거주의사 = pd.read_csv(input_path.joinpath('29.세종시_거주의사(향후).csv'),encoding=\"utf-8\")"
   ]
  },
  {
   "cell_type": "code",
   "execution_count": null,
   "metadata": {},
   "outputs": [],
   "source": []
  },
  {
   "cell_type": "code",
   "execution_count": 4,
   "metadata": {},
   "outputs": [],
   "source": [
    "#분류\n",
    "거주기간_읍면동=거주기간.loc[1:3]\n",
    "거주기간_성별=거주기간.loc[4:5]\n",
    "거주기간_연령별=거주기간.loc[6:12]\n",
    "거주기간_교육정도별=거주기간.loc[13:16]\n",
    "거주기간_직업별=거주기간.loc[17:22]\n",
    "거주기간_혼인상태별=거주기간.loc[23:25]\n",
    "거주기간_가구소득별=거주기간.loc[26:33]\n",
    "거주기간_맞벌이유무=거주기간.loc[34:35]\n",
    "거주기간_주거형태별=거주기간.loc[36:]"
   ]
  },
  {
   "cell_type": "code",
   "execution_count": 5,
   "metadata": {},
   "outputs": [],
   "source": [
    "거주의사_읍면동=거주의사.loc[1:3]\n",
    "거주의사_성별=거주의사.loc[4:5]\n",
    "거주의사_연령별=거주의사.loc[6:14]\n",
    "거주의사_교육정도별=거주의사.loc[15:18]\n",
    "거주의사_직업별=거주의사.loc[19:24]\n",
    "거주의사_혼인상태별=거주의사.loc[25:27]\n",
    "거주의사_가구소득별=거주의사.loc[28:35]\n",
    "거주의사_맞벌이유무=거주의사.loc[36:37]\n",
    "거주의사_주거형태별=거주의사.loc[38:]"
   ]
  },
  {
   "cell_type": "code",
   "execution_count": 20,
   "metadata": {},
   "outputs": [],
   "source": [
    "월평균소득_읍면동=월평균소득.loc[1:3]\n",
    "월평균소득_성별=월평균소득.loc[4:5]\n",
    "월평균소득_거주기간별=월평균소득.loc[6:7]\n",
    "월평균소득_연령별=월평균소득.loc[8:14]\n",
    "월평균소득_교육정도별=월평균소득.loc[15:18]\n",
    "월평균소득_직업별=월평균소득.loc[19:24]\n",
    "월평균소득_혼인상태별=월평균소득.loc[25:27]\n",
    "월평균소득_맞벌이유무=월평균소득.loc[28:29]\n",
    "월평균소득_주거형태별=월평균소득.loc[30:]\n"
   ]
  },
  {
   "cell_type": "code",
   "execution_count": 29,
   "metadata": {},
   "outputs": [],
   "source": [
    "import matplotlib.pyplot as plt\n",
    "import numpy as np"
   ]
  },
  {
   "cell_type": "code",
   "execution_count": 40,
   "metadata": {},
   "outputs": [],
   "source": [
    "지역_합=지역별세대수.loc[:,['읍면동','계']]\n",
    "지역_합=지역_합.reset_index().set_index('읍면동')"
   ]
  },
  {
   "cell_type": "code",
   "execution_count": 27,
   "metadata": {},
   "outputs": [
    {
     "data": {
      "text/html": [
       "<div>\n",
       "<style scoped>\n",
       "    .dataframe tbody tr th:only-of-type {\n",
       "        vertical-align: middle;\n",
       "    }\n",
       "\n",
       "    .dataframe tbody tr th {\n",
       "        vertical-align: top;\n",
       "    }\n",
       "\n",
       "    .dataframe thead th {\n",
       "        text-align: right;\n",
       "    }\n",
       "</style>\n",
       "<table border=\"1\" class=\"dataframe\">\n",
       "  <thead>\n",
       "    <tr style=\"text-align: right;\">\n",
       "      <th></th>\n",
       "      <th>읍면동</th>\n",
       "      <th>계</th>\n",
       "      <th>1인</th>\n",
       "      <th>2인</th>\n",
       "      <th>3인</th>\n",
       "      <th>4인</th>\n",
       "      <th>5인</th>\n",
       "      <th>6인</th>\n",
       "      <th>7인</th>\n",
       "      <th>8인</th>\n",
       "      <th>9인</th>\n",
       "      <th>10인이상</th>\n",
       "    </tr>\n",
       "  </thead>\n",
       "  <tbody>\n",
       "    <tr>\n",
       "      <th>0</th>\n",
       "      <td>조치원읍</td>\n",
       "      <td>19472</td>\n",
       "      <td>8295</td>\n",
       "      <td>4165</td>\n",
       "      <td>3042</td>\n",
       "      <td>2729</td>\n",
       "      <td>944</td>\n",
       "      <td>220</td>\n",
       "      <td>63</td>\n",
       "      <td>9</td>\n",
       "      <td>4</td>\n",
       "      <td>1</td>\n",
       "    </tr>\n",
       "    <tr>\n",
       "      <th>1</th>\n",
       "      <td>연 기 면</td>\n",
       "      <td>1445</td>\n",
       "      <td>855</td>\n",
       "      <td>299</td>\n",
       "      <td>133</td>\n",
       "      <td>101</td>\n",
       "      <td>36</td>\n",
       "      <td>11</td>\n",
       "      <td>7</td>\n",
       "      <td>1</td>\n",
       "      <td>2</td>\n",
       "      <td>0</td>\n",
       "    </tr>\n",
       "    <tr>\n",
       "      <th>2</th>\n",
       "      <td>연 동 면</td>\n",
       "      <td>1680</td>\n",
       "      <td>834</td>\n",
       "      <td>461</td>\n",
       "      <td>206</td>\n",
       "      <td>114</td>\n",
       "      <td>44</td>\n",
       "      <td>14</td>\n",
       "      <td>5</td>\n",
       "      <td>1</td>\n",
       "      <td>0</td>\n",
       "      <td>1</td>\n",
       "    </tr>\n",
       "    <tr>\n",
       "      <th>3</th>\n",
       "      <td>부 강 면</td>\n",
       "      <td>3249</td>\n",
       "      <td>1603</td>\n",
       "      <td>821</td>\n",
       "      <td>420</td>\n",
       "      <td>273</td>\n",
       "      <td>93</td>\n",
       "      <td>34</td>\n",
       "      <td>3</td>\n",
       "      <td>0</td>\n",
       "      <td>0</td>\n",
       "      <td>2</td>\n",
       "    </tr>\n",
       "    <tr>\n",
       "      <th>4</th>\n",
       "      <td>금 남 면</td>\n",
       "      <td>4509</td>\n",
       "      <td>2128</td>\n",
       "      <td>1283</td>\n",
       "      <td>589</td>\n",
       "      <td>328</td>\n",
       "      <td>122</td>\n",
       "      <td>41</td>\n",
       "      <td>12</td>\n",
       "      <td>6</td>\n",
       "      <td>0</td>\n",
       "      <td>0</td>\n",
       "    </tr>\n",
       "    <tr>\n",
       "      <th>5</th>\n",
       "      <td>장 군 면</td>\n",
       "      <td>3453</td>\n",
       "      <td>1956</td>\n",
       "      <td>806</td>\n",
       "      <td>332</td>\n",
       "      <td>200</td>\n",
       "      <td>106</td>\n",
       "      <td>35</td>\n",
       "      <td>11</td>\n",
       "      <td>6</td>\n",
       "      <td>1</td>\n",
       "      <td>0</td>\n",
       "    </tr>\n",
       "    <tr>\n",
       "      <th>6</th>\n",
       "      <td>연 서 면</td>\n",
       "      <td>3834</td>\n",
       "      <td>1863</td>\n",
       "      <td>1022</td>\n",
       "      <td>484</td>\n",
       "      <td>276</td>\n",
       "      <td>129</td>\n",
       "      <td>38</td>\n",
       "      <td>16</td>\n",
       "      <td>3</td>\n",
       "      <td>2</td>\n",
       "      <td>1</td>\n",
       "    </tr>\n",
       "    <tr>\n",
       "      <th>7</th>\n",
       "      <td>전 의 면</td>\n",
       "      <td>3045</td>\n",
       "      <td>1551</td>\n",
       "      <td>753</td>\n",
       "      <td>352</td>\n",
       "      <td>244</td>\n",
       "      <td>107</td>\n",
       "      <td>29</td>\n",
       "      <td>8</td>\n",
       "      <td>0</td>\n",
       "      <td>1</td>\n",
       "      <td>0</td>\n",
       "    </tr>\n",
       "    <tr>\n",
       "      <th>8</th>\n",
       "      <td>전 동 면</td>\n",
       "      <td>2130</td>\n",
       "      <td>1224</td>\n",
       "      <td>491</td>\n",
       "      <td>213</td>\n",
       "      <td>124</td>\n",
       "      <td>57</td>\n",
       "      <td>15</td>\n",
       "      <td>6</td>\n",
       "      <td>0</td>\n",
       "      <td>0</td>\n",
       "      <td>0</td>\n",
       "    </tr>\n",
       "    <tr>\n",
       "      <th>9</th>\n",
       "      <td>소 정 면</td>\n",
       "      <td>1231</td>\n",
       "      <td>565</td>\n",
       "      <td>308</td>\n",
       "      <td>160</td>\n",
       "      <td>127</td>\n",
       "      <td>58</td>\n",
       "      <td>9</td>\n",
       "      <td>1</td>\n",
       "      <td>2</td>\n",
       "      <td>1</td>\n",
       "      <td>0</td>\n",
       "    </tr>\n",
       "    <tr>\n",
       "      <th>10</th>\n",
       "      <td>한 솔 동</td>\n",
       "      <td>6333</td>\n",
       "      <td>1069</td>\n",
       "      <td>1134</td>\n",
       "      <td>1468</td>\n",
       "      <td>1944</td>\n",
       "      <td>584</td>\n",
       "      <td>101</td>\n",
       "      <td>25</td>\n",
       "      <td>5</td>\n",
       "      <td>1</td>\n",
       "      <td>2</td>\n",
       "    </tr>\n",
       "    <tr>\n",
       "      <th>11</th>\n",
       "      <td>새 롬 동</td>\n",
       "      <td>20495</td>\n",
       "      <td>6019</td>\n",
       "      <td>3980</td>\n",
       "      <td>4283</td>\n",
       "      <td>4754</td>\n",
       "      <td>1201</td>\n",
       "      <td>201</td>\n",
       "      <td>39</td>\n",
       "      <td>12</td>\n",
       "      <td>4</td>\n",
       "      <td>2</td>\n",
       "    </tr>\n",
       "    <tr>\n",
       "      <th>12</th>\n",
       "      <td>도 담 동</td>\n",
       "      <td>13136</td>\n",
       "      <td>5002</td>\n",
       "      <td>2117</td>\n",
       "      <td>2383</td>\n",
       "      <td>2825</td>\n",
       "      <td>667</td>\n",
       "      <td>106</td>\n",
       "      <td>29</td>\n",
       "      <td>3</td>\n",
       "      <td>4</td>\n",
       "      <td>0</td>\n",
       "    </tr>\n",
       "    <tr>\n",
       "      <th>13</th>\n",
       "      <td>아 름 동</td>\n",
       "      <td>7560</td>\n",
       "      <td>1058</td>\n",
       "      <td>1262</td>\n",
       "      <td>1858</td>\n",
       "      <td>2656</td>\n",
       "      <td>597</td>\n",
       "      <td>98</td>\n",
       "      <td>20</td>\n",
       "      <td>7</td>\n",
       "      <td>1</td>\n",
       "      <td>3</td>\n",
       "    </tr>\n",
       "    <tr>\n",
       "      <th>14</th>\n",
       "      <td>종 촌 동</td>\n",
       "      <td>10691</td>\n",
       "      <td>2525</td>\n",
       "      <td>2049</td>\n",
       "      <td>2420</td>\n",
       "      <td>2847</td>\n",
       "      <td>675</td>\n",
       "      <td>120</td>\n",
       "      <td>34</td>\n",
       "      <td>17</td>\n",
       "      <td>2</td>\n",
       "      <td>2</td>\n",
       "    </tr>\n",
       "    <tr>\n",
       "      <th>15</th>\n",
       "      <td>고 운 동</td>\n",
       "      <td>11436</td>\n",
       "      <td>2025</td>\n",
       "      <td>2341</td>\n",
       "      <td>2839</td>\n",
       "      <td>3240</td>\n",
       "      <td>814</td>\n",
       "      <td>145</td>\n",
       "      <td>19</td>\n",
       "      <td>7</td>\n",
       "      <td>4</td>\n",
       "      <td>2</td>\n",
       "    </tr>\n",
       "    <tr>\n",
       "      <th>16</th>\n",
       "      <td>소 담 동</td>\n",
       "      <td>10973</td>\n",
       "      <td>2754</td>\n",
       "      <td>2268</td>\n",
       "      <td>2597</td>\n",
       "      <td>2545</td>\n",
       "      <td>671</td>\n",
       "      <td>106</td>\n",
       "      <td>27</td>\n",
       "      <td>1</td>\n",
       "      <td>1</td>\n",
       "      <td>3</td>\n",
       "    </tr>\n",
       "    <tr>\n",
       "      <th>17</th>\n",
       "      <td>보 람 동</td>\n",
       "      <td>6810</td>\n",
       "      <td>1536</td>\n",
       "      <td>1363</td>\n",
       "      <td>1544</td>\n",
       "      <td>1802</td>\n",
       "      <td>471</td>\n",
       "      <td>69</td>\n",
       "      <td>20</td>\n",
       "      <td>2</td>\n",
       "      <td>2</td>\n",
       "      <td>1</td>\n",
       "    </tr>\n",
       "    <tr>\n",
       "      <th>18</th>\n",
       "      <td>대 평 동</td>\n",
       "      <td>3926</td>\n",
       "      <td>857</td>\n",
       "      <td>977</td>\n",
       "      <td>932</td>\n",
       "      <td>886</td>\n",
       "      <td>228</td>\n",
       "      <td>33</td>\n",
       "      <td>9</td>\n",
       "      <td>4</td>\n",
       "      <td>0</td>\n",
       "      <td>0</td>\n",
       "    </tr>\n",
       "  </tbody>\n",
       "</table>\n",
       "</div>"
      ],
      "text/plain": [
       "      읍면동      계    1인    2인    3인    4인    5인   6인  7인  8인  9인  10인이상\n",
       "0    조치원읍  19472  8295  4165  3042  2729   944  220  63   9   4      1\n",
       "1   연 기 면   1445   855   299   133   101    36   11   7   1   2      0\n",
       "2   연 동 면   1680   834   461   206   114    44   14   5   1   0      1\n",
       "3   부 강 면   3249  1603   821   420   273    93   34   3   0   0      2\n",
       "4   금 남 면   4509  2128  1283   589   328   122   41  12   6   0      0\n",
       "5   장 군 면   3453  1956   806   332   200   106   35  11   6   1      0\n",
       "6   연 서 면   3834  1863  1022   484   276   129   38  16   3   2      1\n",
       "7   전 의 면   3045  1551   753   352   244   107   29   8   0   1      0\n",
       "8   전 동 면   2130  1224   491   213   124    57   15   6   0   0      0\n",
       "9   소 정 면   1231   565   308   160   127    58    9   1   2   1      0\n",
       "10  한 솔 동   6333  1069  1134  1468  1944   584  101  25   5   1      2\n",
       "11  새 롬 동  20495  6019  3980  4283  4754  1201  201  39  12   4      2\n",
       "12  도 담 동  13136  5002  2117  2383  2825   667  106  29   3   4      0\n",
       "13  아 름 동   7560  1058  1262  1858  2656   597   98  20   7   1      3\n",
       "14  종 촌 동  10691  2525  2049  2420  2847   675  120  34  17   2      2\n",
       "15  고 운 동  11436  2025  2341  2839  3240   814  145  19   7   4      2\n",
       "16  소 담 동  10973  2754  2268  2597  2545   671  106  27   1   1      3\n",
       "17  보 람 동   6810  1536  1363  1544  1802   471   69  20   2   2      1\n",
       "18  대 평 동   3926   857   977   932   886   228   33   9   4   0      0"
      ]
     },
     "execution_count": 27,
     "metadata": {},
     "output_type": "execute_result"
    }
   ],
   "source": [
    "지역별세대수"
   ]
  },
  {
   "cell_type": "code",
   "execution_count": 29,
   "metadata": {},
   "outputs": [],
   "source": [
    "지역1인10인=지역별세대수.loc[:,['읍면동','1인','2인','3인','4인','5인','6인','7인','8인','9인','10인이상']]\n"
   ]
  },
  {
   "cell_type": "code",
   "execution_count": 31,
   "metadata": {},
   "outputs": [
    {
     "name": "stdout",
     "output_type": "stream",
     "text": [
      "['NanumGothic']\n"
     ]
    },
    {
     "data": {
      "text/plain": [
       "<matplotlib.legend.Legend at 0x15f154de668>"
      ]
     },
     "execution_count": 31,
     "metadata": {},
     "output_type": "execute_result"
    },
    {
     "data": {
      "image/png": "[encoded data removed]",
      "text/plain": [
       "<Figure size 2160x720 with 1 Axes>"
      ]
     },
     "metadata": {
      "needs_background": "light"
     },
     "output_type": "display_data"
    }
   ],
   "source": [
    "import matplotlib.pyplot as plt\n",
    "\n",
    "# matplotlib 폰트설정\n",
    "# plt.rc('font', family='NanumGothicOTF') # For MacOS\n",
    "plt.rc('font', family='NanumGothic') # For Windows\n",
    "print(plt.rcParams['font.family'])\n",
    "\n",
    "%matplotlib inline\n",
    "\n",
    "ax=지역1인10인.plot(kind='bar',title='지역별 세대수 합',figsize=(30,10),legend=True,fontsize=12,stacked=True)\n",
    "ax.set_xlabel('읍면동',fontsize=12)\n",
    "ax.set_ylabel('사람수',fontsize=12)\n",
    "ax.legend(['1인','2인','3인','4인','5인','6인','7인','8인','9인','10인이상'])"
   ]
  },
  {
   "cell_type": "code",
   "execution_count": 13,
   "metadata": {},
   "outputs": [],
   "source": [
    "지역별계=지역별세대수.loc[:,['읍면동','계']]\n"
   ]
  },
  {
   "cell_type": "code",
   "execution_count": 15,
   "metadata": {},
   "outputs": [],
   "source": [
    "지역별계=지역별계.reset_index().set_index('읍면동')"
   ]
  },
  {
   "cell_type": "code",
   "execution_count": 16,
   "metadata": {},
   "outputs": [
    {
     "name": "stdout",
     "output_type": "stream",
     "text": [
      "['NanumGothic']\n"
     ]
    },
    {
     "data": {
      "text/plain": [
       "<matplotlib.legend.Legend at 0x15f19baeb38>"
      ]
     },
     "execution_count": 16,
     "metadata": {},
     "output_type": "execute_result"
    },
    {
     "data": {
      "image/png": "[encoded data removed]",
      "text/plain": [
       "<Figure size 2160x720 with 1 Axes>"
      ]
     },
     "metadata": {
      "needs_background": "light"
     },
     "output_type": "display_data"
    }
   ],
   "source": [
    "import matplotlib.pyplot as plt\n",
    "\n",
    "# matplotlib 폰트설정\n",
    "# plt.rc('font', family='NanumGothicOTF') # For MacOS\n",
    "plt.rc('font', family='NanumGothic') # For Windows\n",
    "print(plt.rcParams['font.family'])\n",
    "\n",
    "%matplotlib inline\n",
    "\n",
    "ax=지역별계.plot(kind='bar',title='지역별 세대수 합',figsize=(30,10),legend=True,fontsize=12)\n",
    "ax.set_xlabel('읍면동',fontsize=12)\n",
    "ax.set_ylabel('사람수',fontsize=12)\n",
    "ax.legend(['계'])"
   ]
  },
  {
   "cell_type": "code",
   "execution_count": 49,
   "metadata": {},
   "outputs": [],
   "source": [
    "통합세대수=지역별세대수.sum(axis=1)"
   ]
  },
  {
   "cell_type": "code",
   "execution_count": 51,
   "metadata": {},
   "outputs": [
    {
     "data": {
      "text/plain": [
       "0     38944\n",
       "1      2890\n",
       "2      3360\n",
       "3      6498\n",
       "4      9018\n",
       "5      6906\n",
       "6      7668\n",
       "7      6090\n",
       "8      4260\n",
       "9      2462\n",
       "10    12666\n",
       "11    40990\n",
       "12    26272\n",
       "13    15120\n",
       "14    21382\n",
       "15    22872\n",
       "16    21946\n",
       "17    13620\n",
       "18     7852\n",
       "dtype: int64"
      ]
     },
     "execution_count": 51,
     "metadata": {},
     "output_type": "execute_result"
    }
   ],
   "source": [
    "통합세대수"
   ]
  },
  {
   "cell_type": "code",
   "execution_count": 58,
   "metadata": {},
   "outputs": [
    {
     "name": "stdout",
     "output_type": "stream",
     "text": [
      "['NanumGothic']\n"
     ]
    },
    {
     "data": {
      "text/plain": [
       "<matplotlib.legend.Legend at 0x15f13619cf8>"
      ]
     },
     "execution_count": 58,
     "metadata": {},
     "output_type": "execute_result"
    },
    {
     "data": {
      "image/png": "[encoded data removed]",
      "text/plain": [
       "<Figure size 2160x720 with 1 Axes>"
      ]
     },
     "metadata": {
      "needs_background": "light"
     },
     "output_type": "display_data"
    }
   ],
   "source": [
    "import matplotlib.pyplot as plt\n",
    "\n",
    "# matplotlib 폰트설정\n",
    "# plt.rc('font', family='NanumGothicOTF') # For MacOS\n",
    "plt.rc('font', family='NanumGothic') # For Windows\n",
    "print(plt.rcParams['font.family'])\n",
    "\n",
    "%matplotlib inline\n",
    "\n",
    "ax=통합세대수.plot(kind='bar',title='세대수',figsize=(30,10),legend=True,fontsize=12)\n",
    "ax.set_xlabel('세대',fontsize=12)\n",
    "ax.set_ylabel('세대수',fontsize=12)\n",
    "ax.legend(['세대수'])"
   ]
  }
 ],
 "metadata": {
  "kernelspec": {
   "display_name": "hyeri_python3.6.5",
   "language": "python",
   "name": "hyeri"
  },
  "language_info": {
   "codemirror_mode": {
    "name": "ipython",
    "version": 3
   },
   "file_extension": ".py",
   "mimetype": "text/x-python",
   "name": "python",
   "nbconvert_exporter": "python",
   "pygments_lexer": "ipython3",
   "version": "3.6.5"
  }
 },
 "nbformat": 4,
 "nbformat_minor": 4
}
